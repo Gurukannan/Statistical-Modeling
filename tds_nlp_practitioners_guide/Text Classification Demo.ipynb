{
 "cells": [
  {
   "cell_type": "code",
   "execution_count": 21,
   "metadata": {},
   "outputs": [],
   "source": [
    "import pandas as pd\n",
    "import numpy as np\n",
    "import matplotlib.pyplot as plt\n",
    "\n",
    "pd.options.display.max_colwidth = 100\n",
    "%matplotlib inline"
   ]
  },
  {
   "cell_type": "code",
   "execution_count": 22,
   "metadata": {},
   "outputs": [],
   "source": [
    "data = pd.read_csv('news.csv')"
   ]
  },
  {
   "cell_type": "code",
   "execution_count": 23,
   "metadata": {},
   "outputs": [
    {
     "data": {
      "text/html": [
       "<div>\n",
       "<style scoped>\n",
       "    .dataframe tbody tr th:only-of-type {\n",
       "        vertical-align: middle;\n",
       "    }\n",
       "\n",
       "    .dataframe tbody tr th {\n",
       "        vertical-align: top;\n",
       "    }\n",
       "\n",
       "    .dataframe thead th {\n",
       "        text-align: right;\n",
       "    }\n",
       "</style>\n",
       "<table border=\"1\" class=\"dataframe\">\n",
       "  <thead>\n",
       "    <tr style=\"text-align: right;\">\n",
       "      <th></th>\n",
       "      <th>news_headline</th>\n",
       "      <th>news_article</th>\n",
       "      <th>news_category</th>\n",
       "      <th>full_text</th>\n",
       "      <th>clean_text</th>\n",
       "    </tr>\n",
       "  </thead>\n",
       "  <tbody>\n",
       "    <tr>\n",
       "      <th>0</th>\n",
       "      <td>World's cheapest phone 'Freedom 251' maker's founder arrested</td>\n",
       "      <td>The maker of world's cheapest smartphone 'Freedom 251' priced at ₹251, Ringing Bells' founder Mo...</td>\n",
       "      <td>technology</td>\n",
       "      <td>World's cheapest phone 'Freedom 251' maker's founder arrested. The maker of world's cheapest sma...</td>\n",
       "      <td>world cheapest phone freedom maker founder arrest maker world cheapest smartphone freedom price ...</td>\n",
       "    </tr>\n",
       "    <tr>\n",
       "      <th>1</th>\n",
       "      <td>US unveils world's most powerful supercomputer, beats China</td>\n",
       "      <td>The US has unveiled the world's most powerful supercomputer called 'Summit', beating the previou...</td>\n",
       "      <td>technology</td>\n",
       "      <td>US unveils world's most powerful supercomputer, beats China. The US has unveiled the world's mos...</td>\n",
       "      <td>us unveils world powerful supercomputer beat china us unveil world powerful supercomputer call s...</td>\n",
       "    </tr>\n",
       "    <tr>\n",
       "      <th>2</th>\n",
       "      <td>FB bug changed 1.4 cr users’ privacy setting to ‘public’</td>\n",
       "      <td>Facebook has said it recently found a bug that automatically suggested posting publicly when peo...</td>\n",
       "      <td>technology</td>\n",
       "      <td>FB bug changed 1.4 cr users’ privacy setting to ‘public’. Facebook has said it recently found a ...</td>\n",
       "      <td>fb bug change cr user privacy set public facebook say recently find bug automatically suggest po...</td>\n",
       "    </tr>\n",
       "    <tr>\n",
       "      <th>3</th>\n",
       "      <td>Contest for 1st couple to marry in self-driving car launched</td>\n",
       "      <td>The American Automobile Association has launched a contest to find the first couple to get marri...</td>\n",
       "      <td>technology</td>\n",
       "      <td>Contest for 1st couple to marry in self-driving car launched. The American Automobile Associatio...</td>\n",
       "      <td>cont st couple marry self drive car launch american automobile association launch contest find f...</td>\n",
       "    </tr>\n",
       "    <tr>\n",
       "      <th>4</th>\n",
       "      <td>China's ZTE to pay $1 billion fine to US to lift sanctions</td>\n",
       "      <td>Chinese telecommunications equipment maker ZTE has agreed to a $1 billion fine to end US sanctio...</td>\n",
       "      <td>technology</td>\n",
       "      <td>China's ZTE to pay $1 billion fine to US to lift sanctions. Chinese telecommunications equipment...</td>\n",
       "      <td>china zte pay billion fine us lift sanction chinese telecommunications equipment maker zte agree...</td>\n",
       "    </tr>\n",
       "  </tbody>\n",
       "</table>\n",
       "</div>"
      ],
      "text/plain": [
       "                                                   news_headline  \\\n",
       "0  World's cheapest phone 'Freedom 251' maker's founder arrested   \n",
       "1    US unveils world's most powerful supercomputer, beats China   \n",
       "2       FB bug changed 1.4 cr users’ privacy setting to ‘public’   \n",
       "3   Contest for 1st couple to marry in self-driving car launched   \n",
       "4     China's ZTE to pay $1 billion fine to US to lift sanctions   \n",
       "\n",
       "                                                                                          news_article  \\\n",
       "0  The maker of world's cheapest smartphone 'Freedom 251' priced at ₹251, Ringing Bells' founder Mo...   \n",
       "1  The US has unveiled the world's most powerful supercomputer called 'Summit', beating the previou...   \n",
       "2  Facebook has said it recently found a bug that automatically suggested posting publicly when peo...   \n",
       "3  The American Automobile Association has launched a contest to find the first couple to get marri...   \n",
       "4  Chinese telecommunications equipment maker ZTE has agreed to a $1 billion fine to end US sanctio...   \n",
       "\n",
       "  news_category  \\\n",
       "0    technology   \n",
       "1    technology   \n",
       "2    technology   \n",
       "3    technology   \n",
       "4    technology   \n",
       "\n",
       "                                                                                             full_text  \\\n",
       "0  World's cheapest phone 'Freedom 251' maker's founder arrested. The maker of world's cheapest sma...   \n",
       "1  US unveils world's most powerful supercomputer, beats China. The US has unveiled the world's mos...   \n",
       "2  FB bug changed 1.4 cr users’ privacy setting to ‘public’. Facebook has said it recently found a ...   \n",
       "3  Contest for 1st couple to marry in self-driving car launched. The American Automobile Associatio...   \n",
       "4  China's ZTE to pay $1 billion fine to US to lift sanctions. Chinese telecommunications equipment...   \n",
       "\n",
       "                                                                                            clean_text  \n",
       "0  world cheapest phone freedom maker founder arrest maker world cheapest smartphone freedom price ...  \n",
       "1  us unveils world powerful supercomputer beat china us unveil world powerful supercomputer call s...  \n",
       "2  fb bug change cr user privacy set public facebook say recently find bug automatically suggest po...  \n",
       "3  cont st couple marry self drive car launch american automobile association launch contest find f...  \n",
       "4  china zte pay billion fine us lift sanction chinese telecommunications equipment maker zte agree...  "
      ]
     },
     "execution_count": 23,
     "metadata": {},
     "output_type": "execute_result"
    }
   ],
   "source": [
    "data.head()"
   ]
  },
  {
   "cell_type": "code",
   "execution_count": 24,
   "metadata": {},
   "outputs": [
    {
     "data": {
      "text/plain": [
       "\"US unveils world's most powerful supercomputer, beats China\""
      ]
     },
     "execution_count": 24,
     "metadata": {},
     "output_type": "execute_result"
    }
   ],
   "source": [
    "data.iloc[1]['news_headline']"
   ]
  },
  {
   "cell_type": "code",
   "execution_count": 25,
   "metadata": {},
   "outputs": [
    {
     "data": {
      "text/plain": [
       "\"The US has unveiled the world's most powerful supercomputer called 'Summit', beating the previous record-holder China's Sunway TaihuLight. With a peak performance of 200,000 trillion calculations per second, it is over twice as fast as Sunway TaihuLight, which is capable of 93,000 trillion calculations per second. Summit has 4,608 servers, which reportedly take up the size of two tennis courts.\""
      ]
     },
     "execution_count": 25,
     "metadata": {},
     "output_type": "execute_result"
    }
   ],
   "source": [
    "data.iloc[1]['news_article']"
   ]
  },
  {
   "cell_type": "code",
   "execution_count": 26,
   "metadata": {},
   "outputs": [
    {
     "data": {
      "text/plain": [
       "\"US unveils world's most powerful supercomputer, beats China. The US has unveiled the world's most powerful supercomputer called 'Summit', beating the previous record-holder China's Sunway TaihuLight. With a peak performance of 200,000 trillion calculations per second, it is over twice as fast as Sunway TaihuLight, which is capable of 93,000 trillion calculations per second. Summit has 4,608 servers, which reportedly take up the size of two tennis courts.\""
      ]
     },
     "execution_count": 26,
     "metadata": {},
     "output_type": "execute_result"
    }
   ],
   "source": [
    "data.iloc[1]['full_text']"
   ]
  },
  {
   "cell_type": "code",
   "execution_count": 27,
   "metadata": {},
   "outputs": [
    {
     "data": {
      "text/plain": [
       "'us unveils world powerful supercomputer beat china us unveil world powerful supercomputer call summit beat previous record holder china sunway taihulight peak performance trillion calculation per second twice fast sunway taihulight capable trillion calculation per second summit server reportedly take size two tennis court'"
      ]
     },
     "execution_count": 27,
     "metadata": {},
     "output_type": "execute_result"
    }
   ],
   "source": [
    "data.iloc[1]['clean_text']"
   ]
  },
  {
   "cell_type": "code",
   "execution_count": 28,
   "metadata": {},
   "outputs": [
    {
     "data": {
      "text/plain": [
       "'technology'"
      ]
     },
     "execution_count": 28,
     "metadata": {},
     "output_type": "execute_result"
    }
   ],
   "source": [
    "data.iloc[1]['news_category']"
   ]
  },
  {
   "cell_type": "code",
   "execution_count": 29,
   "metadata": {},
   "outputs": [],
   "source": [
    "articles, labels = np.array(data['clean_text']), np.array(data['news_category'])"
   ]
  },
  {
   "cell_type": "code",
   "execution_count": 32,
   "metadata": {},
   "outputs": [],
   "source": [
    "from sklearn.model_selection import train_test_split\n",
    "\n",
    "train_articles, test_articles, train_labels, test_labels = train_test_split(articles, labels, random_state=42, test_size=0.3)"
   ]
  },
  {
   "cell_type": "code",
   "execution_count": 34,
   "metadata": {},
   "outputs": [
    {
     "name": "stdout",
     "output_type": "stream",
     "text": [
      "Train data size: (51,) (51,)\n",
      "Test data size: (23,) (23,)\n"
     ]
    }
   ],
   "source": [
    "print('Train data size:', train_articles.shape, train_labels.shape)\n",
    "print('Test data size:', test_articles.shape, test_labels.shape)"
   ]
  },
  {
   "cell_type": "code",
   "execution_count": 37,
   "metadata": {},
   "outputs": [
    {
     "name": "stdout",
     "output_type": "stream",
     "text": [
      "Train news article categories: Counter({'world': 18, 'sports': 18, 'technology': 15})\n",
      "Test news article categories: Counter({'technology': 9, 'world': 7, 'sports': 7})\n"
     ]
    }
   ],
   "source": [
    "from collections import Counter\n",
    "\n",
    "print('Train news article categories:', Counter(train_labels))\n",
    "print('Test news article categories:', Counter(test_labels))"
   ]
  },
  {
   "cell_type": "code",
   "execution_count": 53,
   "metadata": {},
   "outputs": [
    {
     "data": {
      "text/plain": [
       "(array([[0, 0, 0, ..., 0, 0, 0],\n",
       "        [0, 0, 0, ..., 0, 0, 0],\n",
       "        [0, 0, 0, ..., 0, 0, 0],\n",
       "        ...,\n",
       "        [0, 0, 0, ..., 0, 0, 0],\n",
       "        [0, 0, 0, ..., 0, 0, 0],\n",
       "        [0, 0, 0, ..., 0, 0, 0]], dtype=int64), (51, 957))"
      ]
     },
     "execution_count": 53,
     "metadata": {},
     "output_type": "execute_result"
    }
   ],
   "source": [
    "from sklearn.feature_extraction.text import CountVectorizer\n",
    "\n",
    "cv = CountVectorizer(min_df=0., max_df=1.)\n",
    "train_features = cv.fit_transform(train_articles)\n",
    "train_features = train_features.toarray()\n",
    "train_features, train_features.shape"
   ]
  },
  {
   "cell_type": "code",
   "execution_count": 55,
   "metadata": {},
   "outputs": [
    {
     "name": "stdout",
     "output_type": "stream",
     "text": [
      "['abdul', 'able', 'academy', 'accept', 'access', 'accommodation', 'accord', 'account', 'accuse', 'acharya', 'act', 'active', 'add', 'address', 'adviser', 'affair', 'affect', 'africa', 'afridi', 'afternoon']\n",
      "Total Vocabulary size (unique words): 957\n"
     ]
    }
   ],
   "source": [
    "vocabulary = cv.get_feature_names()\n",
    "print(vocabulary[:20])\n",
    "print('Total Vocabulary size (unique words):', len(vocabulary))"
   ]
  },
  {
   "cell_type": "code",
   "execution_count": 45,
   "metadata": {},
   "outputs": [
    {
     "data": {
      "text/html": [
       "<div>\n",
       "<style scoped>\n",
       "    .dataframe tbody tr th:only-of-type {\n",
       "        vertical-align: middle;\n",
       "    }\n",
       "\n",
       "    .dataframe tbody tr th {\n",
       "        vertical-align: top;\n",
       "    }\n",
       "\n",
       "    .dataframe thead th {\n",
       "        text-align: right;\n",
       "    }\n",
       "</style>\n",
       "<table border=\"1\" class=\"dataframe\">\n",
       "  <thead>\n",
       "    <tr style=\"text-align: right;\">\n",
       "      <th></th>\n",
       "      <th>abdul</th>\n",
       "      <th>able</th>\n",
       "      <th>academy</th>\n",
       "      <th>accept</th>\n",
       "      <th>access</th>\n",
       "      <th>accommodation</th>\n",
       "      <th>accord</th>\n",
       "      <th>account</th>\n",
       "      <th>accuse</th>\n",
       "      <th>acharya</th>\n",
       "      <th>...</th>\n",
       "      <th>would</th>\n",
       "      <th>write</th>\n",
       "      <th>wrote</th>\n",
       "      <th>wuhan</th>\n",
       "      <th>xi</th>\n",
       "      <th>yahoo</th>\n",
       "      <th>year</th>\n",
       "      <th>yes</th>\n",
       "      <th>young</th>\n",
       "      <th>yrs</th>\n",
       "    </tr>\n",
       "  </thead>\n",
       "  <tbody>\n",
       "    <tr>\n",
       "      <th>0</th>\n",
       "      <td>0</td>\n",
       "      <td>0</td>\n",
       "      <td>0</td>\n",
       "      <td>0</td>\n",
       "      <td>0</td>\n",
       "      <td>0</td>\n",
       "      <td>0</td>\n",
       "      <td>0</td>\n",
       "      <td>0</td>\n",
       "      <td>0</td>\n",
       "      <td>...</td>\n",
       "      <td>0</td>\n",
       "      <td>0</td>\n",
       "      <td>0</td>\n",
       "      <td>0</td>\n",
       "      <td>0</td>\n",
       "      <td>0</td>\n",
       "      <td>1</td>\n",
       "      <td>0</td>\n",
       "      <td>0</td>\n",
       "      <td>0</td>\n",
       "    </tr>\n",
       "    <tr>\n",
       "      <th>1</th>\n",
       "      <td>0</td>\n",
       "      <td>0</td>\n",
       "      <td>0</td>\n",
       "      <td>0</td>\n",
       "      <td>0</td>\n",
       "      <td>0</td>\n",
       "      <td>0</td>\n",
       "      <td>0</td>\n",
       "      <td>0</td>\n",
       "      <td>0</td>\n",
       "      <td>...</td>\n",
       "      <td>0</td>\n",
       "      <td>0</td>\n",
       "      <td>0</td>\n",
       "      <td>0</td>\n",
       "      <td>0</td>\n",
       "      <td>0</td>\n",
       "      <td>0</td>\n",
       "      <td>0</td>\n",
       "      <td>0</td>\n",
       "      <td>0</td>\n",
       "    </tr>\n",
       "    <tr>\n",
       "      <th>2</th>\n",
       "      <td>0</td>\n",
       "      <td>0</td>\n",
       "      <td>0</td>\n",
       "      <td>1</td>\n",
       "      <td>0</td>\n",
       "      <td>0</td>\n",
       "      <td>0</td>\n",
       "      <td>0</td>\n",
       "      <td>0</td>\n",
       "      <td>0</td>\n",
       "      <td>...</td>\n",
       "      <td>0</td>\n",
       "      <td>0</td>\n",
       "      <td>0</td>\n",
       "      <td>0</td>\n",
       "      <td>0</td>\n",
       "      <td>0</td>\n",
       "      <td>0</td>\n",
       "      <td>0</td>\n",
       "      <td>0</td>\n",
       "      <td>0</td>\n",
       "    </tr>\n",
       "    <tr>\n",
       "      <th>3</th>\n",
       "      <td>0</td>\n",
       "      <td>0</td>\n",
       "      <td>0</td>\n",
       "      <td>0</td>\n",
       "      <td>0</td>\n",
       "      <td>0</td>\n",
       "      <td>0</td>\n",
       "      <td>1</td>\n",
       "      <td>0</td>\n",
       "      <td>0</td>\n",
       "      <td>...</td>\n",
       "      <td>0</td>\n",
       "      <td>0</td>\n",
       "      <td>1</td>\n",
       "      <td>0</td>\n",
       "      <td>0</td>\n",
       "      <td>0</td>\n",
       "      <td>0</td>\n",
       "      <td>0</td>\n",
       "      <td>0</td>\n",
       "      <td>0</td>\n",
       "    </tr>\n",
       "    <tr>\n",
       "      <th>4</th>\n",
       "      <td>0</td>\n",
       "      <td>0</td>\n",
       "      <td>0</td>\n",
       "      <td>0</td>\n",
       "      <td>0</td>\n",
       "      <td>0</td>\n",
       "      <td>1</td>\n",
       "      <td>0</td>\n",
       "      <td>0</td>\n",
       "      <td>0</td>\n",
       "      <td>...</td>\n",
       "      <td>0</td>\n",
       "      <td>0</td>\n",
       "      <td>0</td>\n",
       "      <td>0</td>\n",
       "      <td>0</td>\n",
       "      <td>0</td>\n",
       "      <td>0</td>\n",
       "      <td>0</td>\n",
       "      <td>0</td>\n",
       "      <td>0</td>\n",
       "    </tr>\n",
       "    <tr>\n",
       "      <th>5</th>\n",
       "      <td>0</td>\n",
       "      <td>0</td>\n",
       "      <td>0</td>\n",
       "      <td>0</td>\n",
       "      <td>0</td>\n",
       "      <td>0</td>\n",
       "      <td>0</td>\n",
       "      <td>0</td>\n",
       "      <td>0</td>\n",
       "      <td>0</td>\n",
       "      <td>...</td>\n",
       "      <td>0</td>\n",
       "      <td>0</td>\n",
       "      <td>0</td>\n",
       "      <td>0</td>\n",
       "      <td>0</td>\n",
       "      <td>0</td>\n",
       "      <td>0</td>\n",
       "      <td>0</td>\n",
       "      <td>0</td>\n",
       "      <td>0</td>\n",
       "    </tr>\n",
       "    <tr>\n",
       "      <th>6</th>\n",
       "      <td>0</td>\n",
       "      <td>0</td>\n",
       "      <td>0</td>\n",
       "      <td>0</td>\n",
       "      <td>0</td>\n",
       "      <td>0</td>\n",
       "      <td>0</td>\n",
       "      <td>0</td>\n",
       "      <td>0</td>\n",
       "      <td>0</td>\n",
       "      <td>...</td>\n",
       "      <td>0</td>\n",
       "      <td>0</td>\n",
       "      <td>0</td>\n",
       "      <td>0</td>\n",
       "      <td>0</td>\n",
       "      <td>0</td>\n",
       "      <td>2</td>\n",
       "      <td>0</td>\n",
       "      <td>0</td>\n",
       "      <td>0</td>\n",
       "    </tr>\n",
       "    <tr>\n",
       "      <th>7</th>\n",
       "      <td>0</td>\n",
       "      <td>0</td>\n",
       "      <td>0</td>\n",
       "      <td>0</td>\n",
       "      <td>0</td>\n",
       "      <td>0</td>\n",
       "      <td>0</td>\n",
       "      <td>0</td>\n",
       "      <td>0</td>\n",
       "      <td>0</td>\n",
       "      <td>...</td>\n",
       "      <td>0</td>\n",
       "      <td>0</td>\n",
       "      <td>0</td>\n",
       "      <td>0</td>\n",
       "      <td>0</td>\n",
       "      <td>0</td>\n",
       "      <td>0</td>\n",
       "      <td>0</td>\n",
       "      <td>0</td>\n",
       "      <td>0</td>\n",
       "    </tr>\n",
       "    <tr>\n",
       "      <th>8</th>\n",
       "      <td>0</td>\n",
       "      <td>0</td>\n",
       "      <td>0</td>\n",
       "      <td>0</td>\n",
       "      <td>1</td>\n",
       "      <td>0</td>\n",
       "      <td>0</td>\n",
       "      <td>0</td>\n",
       "      <td>0</td>\n",
       "      <td>1</td>\n",
       "      <td>...</td>\n",
       "      <td>0</td>\n",
       "      <td>0</td>\n",
       "      <td>0</td>\n",
       "      <td>0</td>\n",
       "      <td>0</td>\n",
       "      <td>0</td>\n",
       "      <td>0</td>\n",
       "      <td>0</td>\n",
       "      <td>0</td>\n",
       "      <td>0</td>\n",
       "    </tr>\n",
       "    <tr>\n",
       "      <th>9</th>\n",
       "      <td>0</td>\n",
       "      <td>0</td>\n",
       "      <td>0</td>\n",
       "      <td>0</td>\n",
       "      <td>0</td>\n",
       "      <td>0</td>\n",
       "      <td>0</td>\n",
       "      <td>0</td>\n",
       "      <td>0</td>\n",
       "      <td>0</td>\n",
       "      <td>...</td>\n",
       "      <td>0</td>\n",
       "      <td>0</td>\n",
       "      <td>0</td>\n",
       "      <td>0</td>\n",
       "      <td>0</td>\n",
       "      <td>0</td>\n",
       "      <td>0</td>\n",
       "      <td>0</td>\n",
       "      <td>0</td>\n",
       "      <td>0</td>\n",
       "    </tr>\n",
       "  </tbody>\n",
       "</table>\n",
       "<p>10 rows × 957 columns</p>\n",
       "</div>"
      ],
      "text/plain": [
       "   abdul  able  academy  accept  access  accommodation  accord  account  \\\n",
       "0      0     0        0       0       0              0       0        0   \n",
       "1      0     0        0       0       0              0       0        0   \n",
       "2      0     0        0       1       0              0       0        0   \n",
       "3      0     0        0       0       0              0       0        1   \n",
       "4      0     0        0       0       0              0       1        0   \n",
       "5      0     0        0       0       0              0       0        0   \n",
       "6      0     0        0       0       0              0       0        0   \n",
       "7      0     0        0       0       0              0       0        0   \n",
       "8      0     0        0       0       1              0       0        0   \n",
       "9      0     0        0       0       0              0       0        0   \n",
       "\n",
       "   accuse  acharya ...   would  write  wrote  wuhan  xi  yahoo  year  yes  \\\n",
       "0       0        0 ...       0      0      0      0   0      0     1    0   \n",
       "1       0        0 ...       0      0      0      0   0      0     0    0   \n",
       "2       0        0 ...       0      0      0      0   0      0     0    0   \n",
       "3       0        0 ...       0      0      1      0   0      0     0    0   \n",
       "4       0        0 ...       0      0      0      0   0      0     0    0   \n",
       "5       0        0 ...       0      0      0      0   0      0     0    0   \n",
       "6       0        0 ...       0      0      0      0   0      0     2    0   \n",
       "7       0        0 ...       0      0      0      0   0      0     0    0   \n",
       "8       0        1 ...       0      0      0      0   0      0     0    0   \n",
       "9       0        0 ...       0      0      0      0   0      0     0    0   \n",
       "\n",
       "   young  yrs  \n",
       "0      0    0  \n",
       "1      0    0  \n",
       "2      0    0  \n",
       "3      0    0  \n",
       "4      0    0  \n",
       "5      0    0  \n",
       "6      0    0  \n",
       "7      0    0  \n",
       "8      0    0  \n",
       "9      0    0  \n",
       "\n",
       "[10 rows x 957 columns]"
      ]
     },
     "execution_count": 45,
     "metadata": {},
     "output_type": "execute_result"
    }
   ],
   "source": [
    "feature_frame = pd.DataFrame(train_features, columns=vocabulary)\n",
    "feature_frame.head(10)"
   ]
  },
  {
   "cell_type": "code",
   "execution_count": 50,
   "metadata": {},
   "outputs": [
    {
     "data": {
      "text/plain": [
       "'nadal rd tennis player earn million prize money follow th french open title world number one rafael nadal become third player roger federer novak djokovic earn million prize money year old win tournament award million title win notably djokovic become first tennis player earn million june'"
      ]
     },
     "execution_count": 50,
     "metadata": {},
     "output_type": "execute_result"
    }
   ],
   "source": [
    "train_articles[0]"
   ]
  },
  {
   "cell_type": "code",
   "execution_count": 49,
   "metadata": {},
   "outputs": [
    {
     "data": {
      "text/plain": [
       "award         1\n",
       "become        2\n",
       "djokovic      2\n",
       "earn          3\n",
       "federer       1\n",
       "first         1\n",
       "follow        1\n",
       "french        1\n",
       "june          1\n",
       "million       4\n",
       "money         2\n",
       "nadal         2\n",
       "notably       1\n",
       "novak         1\n",
       "number        1\n",
       "old           1\n",
       "one           1\n",
       "open          1\n",
       "player        3\n",
       "prize         2\n",
       "rafael        1\n",
       "rd            1\n",
       "roger         1\n",
       "tennis        2\n",
       "th            1\n",
       "third         1\n",
       "title         2\n",
       "tournament    1\n",
       "win           2\n",
       "world         1\n",
       "year          1\n",
       "Name: 0, dtype: int64"
      ]
     },
     "execution_count": 49,
     "metadata": {},
     "output_type": "execute_result"
    }
   ],
   "source": [
    "feature_frame.iloc[0][feature_frame.iloc[0] > 0]"
   ]
  },
  {
   "cell_type": "code",
   "execution_count": 52,
   "metadata": {},
   "outputs": [
    {
     "data": {
      "text/plain": [
       "DecisionTreeClassifier(class_weight=None, criterion='gini', max_depth=None,\n",
       "            max_features=None, max_leaf_nodes=None,\n",
       "            min_impurity_split=1e-07, min_samples_leaf=1,\n",
       "            min_samples_split=2, min_weight_fraction_leaf=0.0,\n",
       "            presort=False, random_state=42, splitter='best')"
      ]
     },
     "execution_count": 52,
     "metadata": {},
     "output_type": "execute_result"
    }
   ],
   "source": [
    "from sklearn.tree import DecisionTreeClassifier\n",
    "\n",
    "dt = DecisionTreeClassifier(random_state=42)\n",
    "dt.fit(train_features, train_labels)"
   ]
  },
  {
   "cell_type": "code",
   "execution_count": 54,
   "metadata": {},
   "outputs": [
    {
     "data": {
      "text/plain": [
       "(array([[0, 0, 0, ..., 0, 0, 0],\n",
       "        [0, 0, 0, ..., 0, 0, 0],\n",
       "        [0, 0, 0, ..., 0, 0, 0],\n",
       "        ...,\n",
       "        [0, 0, 0, ..., 0, 0, 0],\n",
       "        [0, 0, 0, ..., 0, 0, 0],\n",
       "        [0, 0, 0, ..., 0, 0, 0]], dtype=int64), (23, 957))"
      ]
     },
     "execution_count": 54,
     "metadata": {},
     "output_type": "execute_result"
    }
   ],
   "source": [
    "test_features = cv.transform(test_articles)\n",
    "test_features = test_features.toarray()\n",
    "test_features, test_features.shape"
   ]
  },
  {
   "cell_type": "code",
   "execution_count": 56,
   "metadata": {},
   "outputs": [
    {
     "data": {
      "text/plain": [
       "array(['sports', 'sports', 'technology', 'world', 'sports', 'world',\n",
       "       'sports', 'sports', 'technology', 'world'], dtype=object)"
      ]
     },
     "execution_count": 56,
     "metadata": {},
     "output_type": "execute_result"
    }
   ],
   "source": [
    "predictions = dt.predict(test_features)\n",
    "predictions[:10]"
   ]
  },
  {
   "cell_type": "code",
   "execution_count": 57,
   "metadata": {},
   "outputs": [],
   "source": [
    "import model_evaluation_utils as meu"
   ]
  },
  {
   "cell_type": "code",
   "execution_count": 59,
   "metadata": {},
   "outputs": [
    {
     "name": "stdout",
     "output_type": "stream",
     "text": [
      "Model Performance metrics:\n",
      "------------------------------\n",
      "Accuracy: 0.6957\n",
      "Precision: 0.8088\n",
      "Recall: 0.6957\n",
      "F1 Score: 0.688\n",
      "\n",
      "Model Classification report:\n",
      "------------------------------\n",
      "             precision    recall  f1-score   support\n",
      "\n",
      "      world       0.83      0.71      0.77         7\n",
      " technology       1.00      0.44      0.62         9\n",
      "     sports       0.54      1.00      0.70         7\n",
      "\n",
      "avg / total       0.81      0.70      0.69        23\n",
      "\n",
      "\n",
      "Prediction Confusion Matrix:\n",
      "------------------------------\n",
      "                   Predicted:                  \n",
      "                        world technology sports\n",
      "Actual: world               5          0      2\n",
      "        technology          1          4      4\n",
      "        sports              0          0      7\n"
     ]
    }
   ],
   "source": [
    "meu.display_model_performance_metrics(true_labels=test_labels, predicted_labels=predictions, classes=list(set(labels)))"
   ]
  },
  {
   "cell_type": "code",
   "execution_count": 64,
   "metadata": {},
   "outputs": [
    {
     "data": {
      "text/html": [
       "<div>\n",
       "<style scoped>\n",
       "    .dataframe tbody tr th:only-of-type {\n",
       "        vertical-align: middle;\n",
       "    }\n",
       "\n",
       "    .dataframe tbody tr th {\n",
       "        vertical-align: top;\n",
       "    }\n",
       "\n",
       "    .dataframe thead th {\n",
       "        text-align: right;\n",
       "    }\n",
       "</style>\n",
       "<table border=\"1\" class=\"dataframe\">\n",
       "  <thead>\n",
       "    <tr style=\"text-align: right;\">\n",
       "      <th></th>\n",
       "      <th>Article</th>\n",
       "      <th>Actual News Category</th>\n",
       "      <th>Predicted News Category</th>\n",
       "    </tr>\n",
       "  </thead>\n",
       "  <tbody>\n",
       "    <tr>\n",
       "      <th>0</th>\n",
       "      <td>china zte pay billion fine us lift sanction chinese telecommunications equipment maker zte agree...</td>\n",
       "      <td>technology</td>\n",
       "      <td>sports</td>\n",
       "    </tr>\n",
       "    <tr>\n",
       "      <th>1</th>\n",
       "      <td>us like piggy bank everyone rob trump slam nation brutal approach conducting trade country presi...</td>\n",
       "      <td>world</td>\n",
       "      <td>sports</td>\n",
       "    </tr>\n",
       "    <tr>\n",
       "      <th>2</th>\n",
       "      <td>apple may introduce touch sensitive side button watch apple reportedly replace physical button a...</td>\n",
       "      <td>technology</td>\n",
       "      <td>technology</td>\n",
       "    </tr>\n",
       "    <tr>\n",
       "      <th>3</th>\n",
       "      <td>world cheapest phone freedom maker founder arrest maker world cheapest smartphone freedom price ...</td>\n",
       "      <td>technology</td>\n",
       "      <td>world</td>\n",
       "    </tr>\n",
       "    <tr>\n",
       "      <th>4</th>\n",
       "      <td>th rank scotland score beat no england run scotland placed th odi ranking defeated top rank engl...</td>\n",
       "      <td>sports</td>\n",
       "      <td>sports</td>\n",
       "    </tr>\n",
       "    <tr>\n",
       "      <th>5</th>\n",
       "      <td>pray us n korea summit lead peace pope francis pope franci sunday say pray upcoming summit us pr...</td>\n",
       "      <td>world</td>\n",
       "      <td>world</td>\n",
       "    </tr>\n",
       "    <tr>\n",
       "      <th>6</th>\n",
       "      <td>man post video control iphone eye developer name matt moss post video twitter show control iphon...</td>\n",
       "      <td>technology</td>\n",
       "      <td>sports</td>\n",
       "    </tr>\n",
       "    <tr>\n",
       "      <th>7</th>\n",
       "      <td>inzamam changed field let hit six sehwag former indian cricketer virender sehwag reveal pakistan...</td>\n",
       "      <td>sports</td>\n",
       "      <td>sports</td>\n",
       "    </tr>\n",
       "    <tr>\n",
       "      <th>8</th>\n",
       "      <td>startup sue apple copy logo shortcut app startup named shift sue apple copy logo company shortcu...</td>\n",
       "      <td>technology</td>\n",
       "      <td>technology</td>\n",
       "    </tr>\n",
       "    <tr>\n",
       "      <th>9</th>\n",
       "      <td>man jump death meccas grand mosque man jump roof grand mosque muslim holy city mecca friday body...</td>\n",
       "      <td>world</td>\n",
       "      <td>world</td>\n",
       "    </tr>\n",
       "    <tr>\n",
       "      <th>10</th>\n",
       "      <td>us news channel host call trump dictator fox news show host call upcoming summit us president do...</td>\n",
       "      <td>world</td>\n",
       "      <td>world</td>\n",
       "    </tr>\n",
       "    <tr>\n",
       "      <th>11</th>\n",
       "      <td>rashid create headache indian player srh coach sunriser hyderabad head coach tom moody say afgha...</td>\n",
       "      <td>sports</td>\n",
       "      <td>sports</td>\n",
       "    </tr>\n",
       "    <tr>\n",
       "      <th>12</th>\n",
       "      <td>apple patent wearable device monitor blood pressure apple grant patent wearable cuff would measu...</td>\n",
       "      <td>technology</td>\n",
       "      <td>technology</td>\n",
       "    </tr>\n",
       "    <tr>\n",
       "      <th>13</th>\n",
       "      <td>year old polish fan attend th fifa world cup andrzej bobowski year old polish fan set attend th ...</td>\n",
       "      <td>sports</td>\n",
       "      <td>sports</td>\n",
       "    </tr>\n",
       "    <tr>\n",
       "      <th>14</th>\n",
       "      <td>android co founder startup unveils magnetic headphone jack android co founder andy rubin startup...</td>\n",
       "      <td>technology</td>\n",
       "      <td>sports</td>\n",
       "    </tr>\n",
       "    <tr>\n",
       "      <th>15</th>\n",
       "      <td>google remove egg salad emoji promote diversity google emoji ux manager jennifer daniel say comp...</td>\n",
       "      <td>technology</td>\n",
       "      <td>sports</td>\n",
       "    </tr>\n",
       "    <tr>\n",
       "      <th>16</th>\n",
       "      <td>singapore summit one time shoot kim jong un trump us president donald trump saturday say upcomin...</td>\n",
       "      <td>world</td>\n",
       "      <td>world</td>\n",
       "    </tr>\n",
       "    <tr>\n",
       "      <th>17</th>\n",
       "      <td>fk trump oscar win actor robert de niro tony award oscar win actor robert de niro swore us presi...</td>\n",
       "      <td>world</td>\n",
       "      <td>sports</td>\n",
       "    </tr>\n",
       "    <tr>\n",
       "      <th>18</th>\n",
       "      <td>indian rd high wc ticket buyer non play nation indian fan buy third high number ticket behind us...</td>\n",
       "      <td>sports</td>\n",
       "      <td>sports</td>\n",
       "    </tr>\n",
       "    <tr>\n",
       "      <th>19</th>\n",
       "      <td>cm grant lakh yr old shooter jr world cup uttar pradesh chief minister yogi adityanath grant lak...</td>\n",
       "      <td>sports</td>\n",
       "      <td>sports</td>\n",
       "    </tr>\n",
       "    <tr>\n",
       "      <th>20</th>\n",
       "      <td>singapore spend crore trump kim summit pm lee singapore prime minister lee hsien loong sunday sa...</td>\n",
       "      <td>world</td>\n",
       "      <td>world</td>\n",
       "    </tr>\n",
       "    <tr>\n",
       "      <th>21</th>\n",
       "      <td>uber aim patent ai system identify drunk rider uber apply patent ai system predict user drunk bo...</td>\n",
       "      <td>technology</td>\n",
       "      <td>technology</td>\n",
       "    </tr>\n",
       "    <tr>\n",
       "      <th>22</th>\n",
       "      <td>rashid call bhogle sir early term bro afghanistan year old spinner rashid khan termed year old c...</td>\n",
       "      <td>sports</td>\n",
       "      <td>sports</td>\n",
       "    </tr>\n",
       "  </tbody>\n",
       "</table>\n",
       "</div>"
      ],
      "text/plain": [
       "                                                                                                Article  \\\n",
       "0   china zte pay billion fine us lift sanction chinese telecommunications equipment maker zte agree...   \n",
       "1   us like piggy bank everyone rob trump slam nation brutal approach conducting trade country presi...   \n",
       "2   apple may introduce touch sensitive side button watch apple reportedly replace physical button a...   \n",
       "3   world cheapest phone freedom maker founder arrest maker world cheapest smartphone freedom price ...   \n",
       "4   th rank scotland score beat no england run scotland placed th odi ranking defeated top rank engl...   \n",
       "5   pray us n korea summit lead peace pope francis pope franci sunday say pray upcoming summit us pr...   \n",
       "6   man post video control iphone eye developer name matt moss post video twitter show control iphon...   \n",
       "7   inzamam changed field let hit six sehwag former indian cricketer virender sehwag reveal pakistan...   \n",
       "8   startup sue apple copy logo shortcut app startup named shift sue apple copy logo company shortcu...   \n",
       "9   man jump death meccas grand mosque man jump roof grand mosque muslim holy city mecca friday body...   \n",
       "10  us news channel host call trump dictator fox news show host call upcoming summit us president do...   \n",
       "11  rashid create headache indian player srh coach sunriser hyderabad head coach tom moody say afgha...   \n",
       "12  apple patent wearable device monitor blood pressure apple grant patent wearable cuff would measu...   \n",
       "13  year old polish fan attend th fifa world cup andrzej bobowski year old polish fan set attend th ...   \n",
       "14  android co founder startup unveils magnetic headphone jack android co founder andy rubin startup...   \n",
       "15  google remove egg salad emoji promote diversity google emoji ux manager jennifer daniel say comp...   \n",
       "16  singapore summit one time shoot kim jong un trump us president donald trump saturday say upcomin...   \n",
       "17  fk trump oscar win actor robert de niro tony award oscar win actor robert de niro swore us presi...   \n",
       "18  indian rd high wc ticket buyer non play nation indian fan buy third high number ticket behind us...   \n",
       "19  cm grant lakh yr old shooter jr world cup uttar pradesh chief minister yogi adityanath grant lak...   \n",
       "20  singapore spend crore trump kim summit pm lee singapore prime minister lee hsien loong sunday sa...   \n",
       "21  uber aim patent ai system identify drunk rider uber apply patent ai system predict user drunk bo...   \n",
       "22  rashid call bhogle sir early term bro afghanistan year old spinner rashid khan termed year old c...   \n",
       "\n",
       "   Actual News Category Predicted News Category  \n",
       "0            technology                  sports  \n",
       "1                 world                  sports  \n",
       "2            technology              technology  \n",
       "3            technology                   world  \n",
       "4                sports                  sports  \n",
       "5                 world                   world  \n",
       "6            technology                  sports  \n",
       "7                sports                  sports  \n",
       "8            technology              technology  \n",
       "9                 world                   world  \n",
       "10                world                   world  \n",
       "11               sports                  sports  \n",
       "12           technology              technology  \n",
       "13               sports                  sports  \n",
       "14           technology                  sports  \n",
       "15           technology                  sports  \n",
       "16                world                   world  \n",
       "17                world                  sports  \n",
       "18               sports                  sports  \n",
       "19               sports                  sports  \n",
       "20                world                   world  \n",
       "21           technology              technology  \n",
       "22               sports                  sports  "
      ]
     },
     "execution_count": 64,
     "metadata": {},
     "output_type": "execute_result"
    }
   ],
   "source": [
    "news_predictions = pd.DataFrame({'Article': test_articles, \n",
    "                                 'Actual News Category': test_labels, \n",
    "                                 'Predicted News Category': predictions})\n",
    "\n",
    "news_predictions[['Article', 'Actual News Category', 'Predicted News Category']]"
   ]
  },
  {
   "cell_type": "code",
   "execution_count": 68,
   "metadata": {},
   "outputs": [
    {
     "data": {
      "image/png": "[encoded data removed]",
      "text/plain": [
       "<Figure size 432x288 with 1 Axes>"
      ]
     },
     "metadata": {},
     "output_type": "display_data"
    }
   ],
   "source": [
    "dt_feature_importances = dt.feature_importances_\n",
    "dt_feature_names, dt_feature_scores = zip(*sorted(zip(vocabulary, dt_feature_importances), \n",
    "                                                          key=lambda x: x[1]))\n",
    "\n",
    "dt_feature_names, dt_feature_scores = dt_feature_names[-10:], dt_feature_scores[-10:]\n",
    "y_position = list(range(len(dt_feature_names)))\n",
    "plt.barh(y_position, dt_feature_scores, height=0.6, align='center')\n",
    "plt.yticks(y_position , dt_feature_names)\n",
    "plt.xlabel('Relative Importance Score')\n",
    "plt.ylabel('Feature')\n",
    "t = plt.title('Feature Importances for Decision Tree')"
   ]
  }
 ],
 "metadata": {
  "anaconda-cloud": {},
  "kernelspec": {
   "display_name": "Python [conda root]",
   "language": "python",
   "name": "conda-root-py"
  },
  "language_info": {
   "codemirror_mode": {
    "name": "ipython",
    "version": 3
   },
   "file_extension": ".py",
   "mimetype": "text/x-python",
   "name": "python",
   "nbconvert_exporter": "python",
   "pygments_lexer": "ipython3",
   "version": "3.5.2"
  }
 },
 "nbformat": 4,
 "nbformat_minor": 2
}
